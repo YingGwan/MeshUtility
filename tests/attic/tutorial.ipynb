{
 "cells": [
  {
   "cell_type": "markdown",
   "metadata": {},
   "source": [
    "# MeshUtility\n",
    "\n",
    "A collection of python utilities for mesh processing.\n",
    "\n",
    "## Functions\n",
    "- [ ] ```colormap_vertex_color```: assign vertex color to visualize a scalar field defined on mesh.\n",
    "- [x] ```isocurve```: extract isocurves on a scalar field defined on a manifold triangular mesh.\n",
    "- [x] ```mesh_cut```: cut a mesh along a vertex chain.\n",
    "- [x] ```mesh_split```: split a mesh by inserting new vertices defined on mesh edges.\n",
    "- [x] ```sphere_cvt```: iteratively approximate centroidal Voronoi tessellation (CVT) on the unit sphere (kind of uniform sampling).\n",
    "- [x] ```split_connected_components```: split connected components.\n",
    "- [ ] ```write_obj_lines```: write polyline as a [Wavefront .obj file](https://en.wikipedia.org/wiki/Wavefront_.obj_file#Line_elements), which can be open with MeshLab.\n",
    "- [ ] ```pyisocurve``` (C++ based): almost the same as ```isocurve``` above.\n",
    "- [x] ```pygeodesic``` (C++ based): exact geodesic for triangular meshes."
   ]
  },
  {
   "cell_type": "code",
   "execution_count": null,
   "metadata": {},
   "outputs": [],
   "source": [
    "import numpy as np\n",
    "\n",
    "import openmesh as om\n",
    "import meshplot as mp\n",
    "import networkx as nx\n",
    "\n",
    "import meshutility as mu"
   ]
  },
  {
   "cell_type": "markdown",
   "metadata": {},
   "source": [
    "# Spherical CVT"
   ]
  },
  {
   "cell_type": "code",
   "execution_count": null,
   "metadata": {},
   "outputs": [],
   "source": [
    "verts, faces = mu.sphere_cvt(100, iters=100)"
   ]
  },
  {
   "cell_type": "code",
   "execution_count": null,
   "metadata": {},
   "outputs": [],
   "source": [
    "p = mp.plot(verts, faces, return_plot=True)\n",
    "p.save(\"../data/sphere_cvt.html\")"
   ]
  },
  {
   "cell_type": "code",
   "execution_count": null,
   "metadata": {},
   "outputs": [],
   "source": [
    "p = mp.plot(verts, c=verts, shading={\"point_size\": 0.3}, return_plot=True)\n",
    "p.save(\"../data/sphere_cvt_v.html\")"
   ]
  },
  {
   "cell_type": "markdown",
   "metadata": {},
   "source": [
    "## Iso-curve"
   ]
  },
  {
   "cell_type": "code",
   "execution_count": null,
   "metadata": {},
   "outputs": [],
   "source": [
    "mesh = om.TriMesh(verts, faces)\n",
    "field = verts[:, 1]\n",
    "\n",
    "isocurve = mu.IsoCurve(verts, faces, field)\n",
    "pts, on_edges, ratios, isocurve_indices = isocurve.extract(0.5)"
   ]
  },
  {
   "cell_type": "code",
   "execution_count": null,
   "metadata": {},
   "outputs": [],
   "source": [
    "p = mp.plot(verts, faces, c=field, return_plot=True)\n",
    "edges = []\n",
    "for line in isocurve_indices:\n",
    "    edges.extend([[line[i], line[i+1]] for i in range(len(line)-1)])\n",
    "edges = np.array(edges, 'i')\n",
    "p.add_edges(pts, edges, shading={\"line_color\": \"red\"})\n",
    "p.save(\"../data/isocurve.html\")"
   ]
  },
  {
   "cell_type": "markdown",
   "metadata": {},
   "source": [
    "## Mesh Splitting/Cutting"
   ]
  },
  {
   "cell_type": "code",
   "execution_count": null,
   "metadata": {},
   "outputs": [],
   "source": [
    "mesh_split, curve_idx = mu.split_mesh(mesh.points(),\n",
    "                             mesh.face_vertex_indices(),\n",
    "                             on_edges, ratios)\n",
    "\n",
    "np.random.seed(5)\n",
    "d = mp.subplot(verts, faces, c=np.random.rand(*faces.shape), s=[1, 2, 0])\n",
    "np.random.seed(5)\n",
    "mp.subplot(mesh_split.points(), mesh_split.face_vertex_indices(), c=np.random.rand(mesh_split.n_faces(), 3), s=[1, 2, 1], data=d)\n",
    "# add_edges(pts, edges, shading={\"line_color\": \"red\"});  # how to add edges in subplot?\n",
    "d.save(\"../data/split.html\")"
   ]
  },
  {
   "cell_type": "code",
   "execution_count": null,
   "metadata": {},
   "outputs": [],
   "source": [
    "curve_idx_ring = curve_idx + [curve_idx[0]]\n",
    "curve = [curve_idx_ring[v] for v in isocurve_indices[0]]\n",
    "mesh_cut, curve_idx = mu.cut_along_curve(mesh_split.points(),\n",
    "                                         mesh_split.face_vertex_indices(),\n",
    "                                         curve)\n",
    "parts = mu.split_connected_components(mesh_cut.points(),\n",
    "                                      mesh_cut.face_vertex_indices())\n",
    "n = len(parts)\n",
    "d = mp.subplot(parts[0].points(), parts[0].face_vertex_indices(), s=[1, n, 0])\n",
    "for i in range(1, n):\n",
    "    mp.subplot(parts[i].points(), parts[i].face_vertex_indices(), s=[1, n, i], data=d)\n",
    "d.save(\"../data/cut.html\")"
   ]
  },
  {
   "cell_type": "markdown",
   "metadata": {},
   "source": [
    "## Geodesic Distance Field"
   ]
  },
  {
   "cell_type": "code",
   "execution_count": null,
   "metadata": {},
   "outputs": [],
   "source": [
    "u, v = 0, 20\n",
    "path_edge, path_ratio = mu.pygeodesic.find_path(verts, faces, u, v)"
   ]
  },
  {
   "cell_type": "code",
   "execution_count": null,
   "metadata": {},
   "outputs": [],
   "source": [
    "pts0 = verts[path_edge[:,0]]\n",
    "pts1 = verts[path_edge[:,1]]\n",
    "pts = np.multiply(pts0, 1.-path_ratio[:, np.newaxis]) + \\\n",
    "            np.multiply(pts1, path_ratio[:, np.newaxis])\n",
    "p = mp.plot(verts, faces, return_plot=True)\n",
    "edges = [[i, i+1] for i in range(pts.shape[0]-1)]\n",
    "edges = np.array(edges, 'i')\n",
    "p.add_edges(pts, edges, shading={\"line_color\": \"red\"})\n",
    "p.save(\"../data/geodesic_path.html\")"
   ]
  },
  {
   "cell_type": "code",
   "execution_count": null,
   "metadata": {},
   "outputs": [],
   "source": [
    "mesh_split, source = mu.split_mesh(verts, faces,\n",
    "                              path_edge, path_ratio)\n",
    "\n",
    "# compute geodesic distance field\n",
    "field = mu.pygeodesic.distance_field(mesh_split.points(),\n",
    "                                     mesh_split.face_vertex_indices(),\n",
    "                                     source, 0.05)\n",
    "\n",
    "p = mp.plot(mesh_split.points(), mesh_split.face_vertex_indices(), c=field, return_plot=True)\n",
    "p.save(\"../data/geodesic_field.html\")"
   ]
  },
  {
   "cell_type": "markdown",
   "metadata": {},
   "source": [
    "## Mesh to Graph"
   ]
  },
  {
   "cell_type": "code",
   "execution_count": null,
   "metadata": {},
   "outputs": [],
   "source": [
    "G = mu.ff_graph(mesh)\n",
    "print(mesh.n_faces(), G.number_of_nodes())\n",
    "nx.draw(G, node_size=40, pos=nx.spring_layout(G, seed=2))"
   ]
  },
  {
   "cell_type": "code",
   "execution_count": null,
   "metadata": {},
   "outputs": [],
   "source": [
    "G = mu.ff_graph(mesh_cut)\n",
    "print(mesh_cut.n_faces(), G.number_of_nodes())\n",
    "nx.draw(G, node_size=40, pos=nx.spring_layout(G, seed=11))"
   ]
  },
  {
   "cell_type": "code",
   "execution_count": null,
   "metadata": {},
   "outputs": [],
   "source": []
  }
 ],
 "metadata": {
  "kernelspec": {
   "display_name": "Python 3",
   "language": "python",
   "name": "python3"
  },
  "language_info": {
   "codemirror_mode": {
    "name": "ipython",
    "version": 3
   },
   "file_extension": ".py",
   "mimetype": "text/x-python",
   "name": "python",
   "nbconvert_exporter": "python",
   "pygments_lexer": "ipython3",
   "version": "3.8.5"
  }
 },
 "nbformat": 4,
 "nbformat_minor": 4
}
